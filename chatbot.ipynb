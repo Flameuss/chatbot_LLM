{
  "nbformat": 4,
  "nbformat_minor": 0,
  "metadata": {
    "colab": {
      "provenance": [],
      "authorship_tag": "ABX9TyPBm+WDw/mFk04uNcK5wU06",
      "include_colab_link": true
    },
    "kernelspec": {
      "name": "python3",
      "display_name": "Python 3"
    },
    "language_info": {
      "name": "python"
    }
  },
  "cells": [
    {
      "cell_type": "markdown",
      "metadata": {
        "id": "view-in-github",
        "colab_type": "text"
      },
      "source": [
        "<a href=\"https://colab.research.google.com/github/Flameuss/chatbot_LLM/blob/main/chatbot.ipynb\" target=\"_parent\"><img src=\"https://colab.research.google.com/assets/colab-badge.svg\" alt=\"Open In Colab\"/></a>"
      ]
    },
    {
      "cell_type": "markdown",
      "source": [
        "# Instalando o SDK do Google"
      ],
      "metadata": {
        "id": "wkvle8EKS-BM"
      }
    },
    {
      "cell_type": "code",
      "execution_count": 1,
      "metadata": {
        "id": "zz-rJpRdOQcQ"
      },
      "outputs": [],
      "source": [
        "!pip install -q -U google-generativeai"
      ]
    },
    {
      "cell_type": "markdown",
      "source": [
        "# Importando a API do Google Gemini"
      ],
      "metadata": {
        "id": "mqbPrV1-S6A0"
      }
    },
    {
      "cell_type": "code",
      "source": [
        "# Import the Python SDK\n",
        "import google.generativeai as genai\n",
        "# Used to securely store your API key\n",
        "from google.colab import userdata\n",
        "\n",
        "GOOGLE_API_KEY=userdata.get('geminiAPI')\n",
        "genai.configure(api_key=GOOGLE_API_KEY)"
      ],
      "metadata": {
        "id": "johcnkUqS483"
      },
      "execution_count": 2,
      "outputs": []
    },
    {
      "cell_type": "markdown",
      "source": [
        "# Listar modelos disponiveis"
      ],
      "metadata": {
        "id": "hD8T1gVvTY9a"
      }
    },
    {
      "cell_type": "code",
      "source": [
        "for m in genai.list_models():\n",
        "  if 'generateContent' in m.supported_generation_methods:\n",
        "    print(m.name)"
      ],
      "metadata": {
        "colab": {
          "base_uri": "https://localhost:8080/",
          "height": 139
        },
        "id": "VkNELKgpTWdc",
        "outputId": "0e595a95-ca0d-4650-a13d-e3eb4074ceae"
      },
      "execution_count": 3,
      "outputs": [
        {
          "output_type": "stream",
          "name": "stdout",
          "text": [
            "models/gemini-1.0-pro\n",
            "models/gemini-1.0-pro-001\n",
            "models/gemini-1.0-pro-latest\n",
            "models/gemini-1.0-pro-vision-latest\n",
            "models/gemini-1.5-pro-latest\n",
            "models/gemini-pro\n",
            "models/gemini-pro-vision\n"
          ]
        }
      ]
    },
    {
      "cell_type": "markdown",
      "source": [
        "# Parametros"
      ],
      "metadata": {
        "id": "X3sfu-gsTXby"
      }
    },
    {
      "cell_type": "markdown",
      "source": [
        "## Configuração de parâmetros\n"
      ],
      "metadata": {
        "id": "DwSj7BFOW9-R"
      }
    },
    {
      "cell_type": "code",
      "source": [
        "generationConfig = {\n",
        "    \"candidate_count\":1,\n",
        "    \"temperature\":0.5,\n",
        "}"
      ],
      "metadata": {
        "id": "ouOzK1faVkXw"
      },
      "execution_count": 4,
      "outputs": []
    },
    {
      "cell_type": "markdown",
      "source": [
        "## Configuração de segurança"
      ],
      "metadata": {
        "id": "fzACRdT_W4lm"
      }
    },
    {
      "cell_type": "code",
      "source": [
        "safetySettings ={\n",
        "  \"HARASSMENT\":\"BLOCK_NONE\",\n",
        "  \"HATE\":\"BLOCK_NONE\",\n",
        "  \"SEXUAL\":\"BLOCK_NONE\",\n",
        "  \"DANGEROUS\":\"BLOCK_NONE\",\n",
        "}"
      ],
      "metadata": {
        "id": "-08E5EAPWTI6"
      },
      "execution_count": 5,
      "outputs": []
    },
    {
      "cell_type": "markdown",
      "source": [
        "# Inicializando o Modelo\n"
      ],
      "metadata": {
        "id": "162MMQp2XQtL"
      }
    },
    {
      "cell_type": "code",
      "source": [
        "model = genai.GenerativeModel(model_name=\"gemini-1.0-pro\", generation_config=generationConfig, safety_settings=safetySettings)"
      ],
      "metadata": {
        "id": "8r6-JjtNXUEK"
      },
      "execution_count": 6,
      "outputs": []
    },
    {
      "cell_type": "markdown",
      "source": [
        "# Criando chatbot\n"
      ],
      "metadata": {
        "id": "Had4GAXVYe8B"
      }
    },
    {
      "cell_type": "markdown",
      "source": [
        "## Teste para ver se o chat responde com a entrada fixa"
      ],
      "metadata": {
        "id": "UQzS5XXro1za"
      }
    },
    {
      "cell_type": "code",
      "source": [
        "response = model.generate_content(\"Vamos aprender counteúdo sobre IA. Me dê sugestões.\")\n",
        "print(response.text)"
      ],
      "metadata": {
        "id": "RToHSVfbYhQm"
      },
      "execution_count": null,
      "outputs": []
    },
    {
      "cell_type": "markdown",
      "source": [],
      "metadata": {
        "id": "jfWzuLltpDOB"
      }
    },
    {
      "cell_type": "code",
      "source": [
        "# armazenando ohistorico do chat iniciado...\n",
        "chat = model.start_chat(history=[])"
      ],
      "metadata": {
        "id": "Tvm0rCEyZJft"
      },
      "execution_count": 7,
      "outputs": []
    },
    {
      "cell_type": "markdown",
      "source": [
        "## Chatbot funcional e com frmatação basica de resposta pelo markdown"
      ],
      "metadata": {
        "id": "kETzEuGvpmzX"
      }
    },
    {
      "cell_type": "code",
      "source": [
        "#melhorando a vizualização\n",
        "import textwrap\n",
        "from IPython.display import display\n",
        "from IPython.display import Markdown\n",
        "\n",
        "prompt = input(\"prompt: \")\n",
        "\n",
        "def to_markdown(text):\n",
        "  text = text.replace('•',' *')\n",
        "  return Markdown(textwrap.indent(text, '> ', predicate=lambda _: True))\n",
        "\n",
        "while prompt != \"fim\":\n",
        "  response = chat.send_message(prompt)\n",
        "  display(to_markdown(f'Resposta: \\n\\n {response.text} \\n\\n'))\n",
        "  prompt = input(\"prompt: \")"
      ],
      "metadata": {
        "colab": {
          "base_uri": "https://localhost:8080/",
          "height": 665
        },
        "id": "vjRnLnNsZpBX",
        "outputId": "bda7800b-6948-4541-acfb-558b424bd4f7"
      },
      "execution_count": 10,
      "outputs": [
        {
          "name": "stdout",
          "output_type": "stream",
          "text": [
            "prompt: receita de feijão tropeiro\n"
          ]
        },
        {
          "output_type": "display_data",
          "data": {
            "text/plain": [
              "<IPython.core.display.Markdown object>"
            ],
            "text/markdown": "> Resposta: \n> \n>  **Ingredientes:**\n> \n> * 500g de feijão tropeiro (feijão vermelho ou preto)\n> * 150g de bacon picado\n> * 150g de calabresa picada\n> * 1 cebola picada\n> * 2 dentes de alho picados\n> * 1 pimentão vermelho picado\n> * 1 pimentão verde picado\n> * 1 tomate picado\n> * 1/2 xícara de cheiro-verde picado\n> * Sal e pimenta-do-reino a gosto\n> * 1/2 xícara de farinha de mandioca torrada\n> \n> **Instruções:**\n> \n> 1. Cozinhe o feijão tropeiro conforme as instruções da embalagem.\n> 2. Em uma panela grande, frite o bacon até dourar.\n> 3. Adicione a calabresa e frite até dourar.\n> 4. Acrescente a cebola, o alho, o pimentão vermelho, o pimentão verde e o tomate. Refogue até os legumes amolecerem.\n> 5. Junte o feijão tropeiro cozido, o cheiro-verde, o sal e a pimenta-do-reino. Misture bem.\n> 6. Por último, adicione a farinha de mandioca torrada e misture até incorporar.\n> 7. Cozinhe por mais 5 minutos ou até o feijão tropeiro engrossar.\n> \n> **Dicas:**\n> \n> * Você pode adicionar outros ingredientes ao feijão tropeiro, como milho, ervilha ou ovos cozidos.\n> * Sirva o feijão tropeiro com arroz branco, farofa ou couve refogada.\n> * O feijão tropeiro pode ser armazenado na geladeira por até 3 dias.\n> \n> **Informações nutricionais (por porção):**\n> \n> * Calorias: 350\n> * Proteínas: 15g\n> * Carboidratos: 50g\n> * Gorduras: 10g \n> \n"
          },
          "metadata": {}
        },
        {
          "name": "stdout",
          "output_type": "stream",
          "text": [
            "prompt: fim\n"
          ]
        }
      ]
    },
    {
      "cell_type": "markdown",
      "source": [
        "## exibindo historico com formatação simples pelo markdown"
      ],
      "metadata": {
        "id": "EM2WJvR0p8nz"
      }
    },
    {
      "cell_type": "code",
      "source": [
        "#melhorando a vizualização\n",
        "# import textwrap\n",
        "# from IPython.display import display\n",
        "# from IPython.display import Markdown\n",
        "\n",
        "\n",
        "def to_markdown(text):\n",
        "  text = text.replace('•', '  *')\n",
        "  return Markdown(textwrap.indent(text, '> ', predicate=lambda _: True))\n",
        "\n",
        "#impriminso Histórico\n",
        "for message in chat.history:\n",
        "  display(to_markdown(f'**{message.role}**: {message.parts[0].text}'))\n",
        "  print('-------------------------------------------')"
      ],
      "metadata": {
        "colab": {
          "base_uri": "https://localhost:8080/",
          "height": 1000
        },
        "id": "18l_aU8zcG3z",
        "outputId": "3ca1a5a1-f8dd-446e-b182-2c7b51911c58"
      },
      "execution_count": 11,
      "outputs": [
        {
          "output_type": "display_data",
          "data": {
            "text/plain": [
              "<IPython.core.display.Markdown object>"
            ],
            "text/markdown": "> **user**: receita de ovo de pascoa"
          },
          "metadata": {}
        },
        {
          "output_type": "stream",
          "name": "stdout",
          "text": [
            "-------------------------------------------\n"
          ]
        },
        {
          "output_type": "display_data",
          "data": {
            "text/plain": [
              "<IPython.core.display.Markdown object>"
            ],
            "text/markdown": "> **model**: **Ingredientes:**\n> \n> **Para o chocolate:**\n> \n> * 500g de chocolate meio amargo picado\n> * 100g de chocolate ao leite picado\n> \n> **Para o recheio:**\n> \n> * 500g de leite condensado\n> * 200g de creme de leite\n> * 1 colher de sopa de manteiga\n> * 1 colher de chá de essência de baunilha\n> \n> **Para a decoração:**\n> \n> * Granulado, confeitos, frutas secas ou o que preferir\n> \n> **Instruções:**\n> \n> **Para o chocolate:**\n> \n> 1. Derreta o chocolate meio amargo e o chocolate ao leite em banho-maria ou no micro-ondas em potência média, mexendo a cada 30 segundos.\n> 2. Retire do fogo e deixe esfriar por 5 minutos.\n> \n> **Para o recheio:**\n> \n> 1. Em uma panela, misture o leite condensado, o creme de leite, a manteiga e a essência de baunilha.\n> 2. Leve ao fogo médio e cozinhe, mexendo sempre, até engrossar e desgrudar do fundo da panela.\n> 3. Retire do fogo e deixe esfriar.\n> \n> **Para montar os ovos de Páscoa:**\n> \n> 1. Unte duas formas de ovo de Páscoa com óleo e forre com papel manteiga.\n> 2. Despeje metade do chocolate derretido em cada forma e espalhe uniformemente.\n> 3. Leve à geladeira por 15 minutos ou até firmar.\n> 4. Retire da geladeira e despeje o recheio sobre o chocolate.\n> 5. Cubra com o restante do chocolate derretido e espalhe uniformemente.\n> 6. Leve à geladeira por pelo menos 4 horas ou até firmar completamente.\n> 7. Desenforme os ovos de Páscoa e decore a gosto.\n> \n> **Dicas:**\n> \n> * Para um chocolate mais brilhante, tempere o chocolate antes de usá-lo.\n> * Se o recheio ficar muito grosso, adicione um pouco de leite ou creme de leite.\n> * Você pode adicionar outros ingredientes ao recheio, como frutas, nozes ou marshmallows.\n> * Deixe os ovos de Páscoa na geladeira por alguns dias para que o recheio fique mais firme."
          },
          "metadata": {}
        },
        {
          "output_type": "stream",
          "name": "stdout",
          "text": [
            "-------------------------------------------\n"
          ]
        },
        {
          "output_type": "display_data",
          "data": {
            "text/plain": [
              "<IPython.core.display.Markdown object>"
            ],
            "text/markdown": "> **user**: receita de feijão tropeiro"
          },
          "metadata": {}
        },
        {
          "output_type": "stream",
          "name": "stdout",
          "text": [
            "-------------------------------------------\n"
          ]
        },
        {
          "output_type": "display_data",
          "data": {
            "text/plain": [
              "<IPython.core.display.Markdown object>"
            ],
            "text/markdown": "> **model**: **Ingredientes:**\n> \n> * 500g de feijão tropeiro (feijão vermelho ou preto)\n> * 150g de bacon picado\n> * 150g de calabresa picada\n> * 1 cebola picada\n> * 2 dentes de alho picados\n> * 1 pimentão vermelho picado\n> * 1 pimentão verde picado\n> * 1 tomate picado\n> * 1/2 xícara de cheiro-verde picado\n> * Sal e pimenta-do-reino a gosto\n> * 1/2 xícara de farinha de mandioca torrada\n> \n> **Instruções:**\n> \n> 1. Cozinhe o feijão tropeiro conforme as instruções da embalagem.\n> 2. Em uma panela grande, frite o bacon até dourar.\n> 3. Adicione a calabresa e frite até dourar.\n> 4. Acrescente a cebola, o alho, o pimentão vermelho, o pimentão verde e o tomate. Refogue até os legumes amolecerem.\n> 5. Junte o feijão tropeiro cozido, o cheiro-verde, o sal e a pimenta-do-reino. Misture bem.\n> 6. Por último, adicione a farinha de mandioca torrada e misture até incorporar.\n> 7. Cozinhe por mais 5 minutos ou até o feijão tropeiro engrossar.\n> \n> **Dicas:**\n> \n> * Você pode adicionar outros ingredientes ao feijão tropeiro, como milho, ervilha ou ovos cozidos.\n> * Sirva o feijão tropeiro com arroz branco, farofa ou couve refogada.\n> * O feijão tropeiro pode ser armazenado na geladeira por até 3 dias.\n> \n> **Informações nutricionais (por porção):**\n> \n> * Calorias: 350\n> * Proteínas: 15g\n> * Carboidratos: 50g\n> * Gorduras: 10g"
          },
          "metadata": {}
        },
        {
          "output_type": "stream",
          "name": "stdout",
          "text": [
            "-------------------------------------------\n"
          ]
        }
      ]
    }
  ]
}