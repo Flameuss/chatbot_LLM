{
  "nbformat": 4,
  "nbformat_minor": 0,
  "metadata": {
    "colab": {
      "provenance": [],
      "authorship_tag": "ABX9TyOb1GLVMxhFcp3yWFrCuN8u",
      "include_colab_link": true
    },
    "kernelspec": {
      "name": "python3",
      "display_name": "Python 3"
    },
    "language_info": {
      "name": "python"
    }
  },
  "cells": [
    {
      "cell_type": "markdown",
      "metadata": {
        "id": "view-in-github",
        "colab_type": "text"
      },
      "source": [
        "<a href=\"https://colab.research.google.com/github/Flameuss/chatbot_LLM/blob/main/chatbot.ipynb\" target=\"_parent\"><img src=\"https://colab.research.google.com/assets/colab-badge.svg\" alt=\"Open In Colab\"/></a>"
      ]
    },
    {
      "cell_type": "markdown",
      "source": [
        "# Instalando o SDK do Google"
      ],
      "metadata": {
        "id": "wkvle8EKS-BM"
      }
    },
    {
      "cell_type": "code",
      "execution_count": null,
      "metadata": {
        "id": "zz-rJpRdOQcQ"
      },
      "outputs": [],
      "source": [
        "!pip install -q -U google-generativeai"
      ]
    },
    {
      "cell_type": "markdown",
      "source": [
        "# Importando a API do Google Gemini"
      ],
      "metadata": {
        "id": "mqbPrV1-S6A0"
      }
    },
    {
      "cell_type": "code",
      "source": [
        "# Import the Python SDK\n",
        "import google.generativeai as genai\n",
        "# Used to securely store your API key\n",
        "from google.colab import userdata\n",
        "\n",
        "GOOGLE_API_KEY=userdata.get('geminiAPI')\n",
        "genai.configure(api_key=GOOGLE_API_KEY)"
      ],
      "metadata": {
        "id": "johcnkUqS483"
      },
      "execution_count": 2,
      "outputs": []
    },
    {
      "cell_type": "markdown",
      "source": [
        "# Listar modelos disponiveis"
      ],
      "metadata": {
        "id": "hD8T1gVvTY9a"
      }
    },
    {
      "cell_type": "code",
      "source": [
        "for m in genai.list_models():\n",
        "  if 'generateContent' in m.supported_generation_methods:\n",
        "    print(m.name)"
      ],
      "metadata": {
        "colab": {
          "base_uri": "https://localhost:8080/",
          "height": 139
        },
        "id": "VkNELKgpTWdc",
        "outputId": "3aa46db1-3c90-4f1e-b350-7f619815901d"
      },
      "execution_count": 6,
      "outputs": [
        {
          "output_type": "stream",
          "name": "stdout",
          "text": [
            "models/gemini-1.0-pro\n",
            "models/gemini-1.0-pro-001\n",
            "models/gemini-1.0-pro-latest\n",
            "models/gemini-1.0-pro-vision-latest\n",
            "models/gemini-1.5-pro-latest\n",
            "models/gemini-pro\n",
            "models/gemini-pro-vision\n"
          ]
        }
      ]
    },
    {
      "cell_type": "markdown",
      "source": [
        "# Parametros"
      ],
      "metadata": {
        "id": "X3sfu-gsTXby"
      }
    },
    {
      "cell_type": "markdown",
      "source": [
        "## Configuração de parâmetros\n"
      ],
      "metadata": {
        "id": "DwSj7BFOW9-R"
      }
    },
    {
      "cell_type": "code",
      "source": [
        "genrationConfig = {\n",
        "    \"candidate_count\":1,\n",
        "    \"temperature\":0.5,\n",
        "}"
      ],
      "metadata": {
        "id": "ouOzK1faVkXw"
      },
      "execution_count": 9,
      "outputs": []
    },
    {
      "cell_type": "markdown",
      "source": [
        "## Configuração de segurança"
      ],
      "metadata": {
        "id": "fzACRdT_W4lm"
      }
    },
    {
      "cell_type": "code",
      "source": [
        "safetySettings ={\n",
        "  \"HARASSMENT\":\"BLOCK_NONE\",\n",
        "  \"HATE\":\"BLOCK_NONE\",\n",
        "  \"SEXUAL\":\"BLOCK_NONE\",\n",
        "  \"DANGEROUS\":\"BLOCK_NONE\",\n",
        "}"
      ],
      "metadata": {
        "id": "-08E5EAPWTI6"
      },
      "execution_count": 16,
      "outputs": []
    },
    {
      "cell_type": "markdown",
      "source": [
        "# Inicializando o Modelo\n"
      ],
      "metadata": {
        "id": "162MMQp2XQtL"
      }
    },
    {
      "cell_type": "code",
      "source": [
        "model = genai.GenerativeModel(model_name=\"gemini-1.0-pro\", generation_config=genrationConfig, safety_settings=safetySettings)"
      ],
      "metadata": {
        "id": "8r6-JjtNXUEK"
      },
      "execution_count": 17,
      "outputs": []
    },
    {
      "cell_type": "markdown",
      "source": [
        "# Criando chatbot\n"
      ],
      "metadata": {
        "id": "Had4GAXVYe8B"
      }
    },
    {
      "cell_type": "markdown",
      "source": [
        "## Teste para ver se o chat responde com a entrada fixa"
      ],
      "metadata": {
        "id": "UQzS5XXro1za"
      }
    },
    {
      "cell_type": "code",
      "source": [
        "response = model.generate_content(\"Vamos aprender counteúdo sobre IA. Me dê sugestões.\")\n",
        "print(response.text)"
      ],
      "metadata": {
        "id": "RToHSVfbYhQm"
      },
      "execution_count": null,
      "outputs": []
    },
    {
      "cell_type": "markdown",
      "source": [],
      "metadata": {
        "id": "jfWzuLltpDOB"
      }
    },
    {
      "cell_type": "code",
      "source": [
        "# armazenando ohistorico do chat iniciado...\n",
        "chat = model.start_chat(history=[])"
      ],
      "metadata": {
        "id": "Tvm0rCEyZJft"
      },
      "execution_count": 20,
      "outputs": []
    },
    {
      "cell_type": "markdown",
      "source": [
        "## Chatbot funcional e com frmatação basica de resposta pelo markdown"
      ],
      "metadata": {
        "id": "kETzEuGvpmzX"
      }
    },
    {
      "cell_type": "code",
      "source": [
        "prompt = input(\"prompt: \")\n",
        "\n",
        "def to_markdown(text):\n",
        "  text = text.replace('•',' *')\n",
        "  return Markdown(textwrap.indent(text, '> ', predicate=lambda _: True))\n",
        "\n",
        "while prompt != \"fim\":\n",
        "  response = chat.send_message(prompt)\n",
        "  display(to_markdown(f'Resposta: \\n\\n {response.text} \\n\\n'))\n",
        "  prompt = input(\"prompt: \")"
      ],
      "metadata": {
        "colab": {
          "base_uri": "https://localhost:8080/",
          "height": 1000
        },
        "id": "vjRnLnNsZpBX",
        "outputId": "0aae67a1-08af-46d4-a801-86d782d1c650"
      },
      "execution_count": 41,
      "outputs": [
        {
          "name": "stdout",
          "output_type": "stream",
          "text": [
            "prompt: receita de merlusa frita na ayrfrie\n"
          ]
        },
        {
          "output_type": "display_data",
          "data": {
            "text/plain": [
              "<IPython.core.display.Markdown object>"
            ],
            "text/markdown": "> Resposta: \n> \n>  **Ingredientes:**\n> \n> * 500g de filé de merlusa\n> * 1 xícara (chá) de farinha de trigo\n> * 1/2 xícara (chá) de amido de milho\n> * 1 colher (chá) de sal\n> * 1/2 colher (chá) de pimenta-do-reino\n> * 1 ovo\n> * 1/2 xícara (chá) de leite\n> * Óleo para untar a airfryer\n> \n> **Modo de preparo:**\n> \n> 1. Tempere os filés de merlusa com sal e pimenta-do-reino.\n> 2. Em um prato, misture a farinha de trigo e o amido de milho.\n> 3. Em outro prato, bata o ovo com o leite.\n> 4. Passe os filés de merlusa primeiro na mistura de farinha e amido de milho, depois na mistura de ovo e leite.\n> 5. Coloque os filés de merlusa na cesta da airfryer untada com óleo.\n> 6. Cozinhe a 200°C por 10 a 12 minutos, ou até que estejam dourados e crocantes.\n> 7. Sirva imediatamente.\n> \n> **Dicas:**\n> \n> * Para um empanado mais crocante, passe os filés de merlusa na farinha de rosca depois de passá-los na mistura de ovo e leite.\n> * Você pode temperar os filés de merlusa com outras ervas e especiarias, como páprica, alho em pó ou orégano.\n> * Sirva os filés de merlusa frita com arroz, batatas fritas ou salada. \n> \n"
          },
          "metadata": {}
        },
        {
          "name": "stdout",
          "output_type": "stream",
          "text": [
            "prompt: traduza safety\n"
          ]
        },
        {
          "output_type": "display_data",
          "data": {
            "text/plain": [
              "<IPython.core.display.Markdown object>"
            ],
            "text/markdown": "> Resposta: \n> \n>  Segurança \n> \n"
          },
          "metadata": {}
        },
        {
          "name": "stdout",
          "output_type": "stream",
          "text": [
            "prompt: o que esse trecho de codigo faz \n"
          ]
        },
        {
          "output_type": "display_data",
          "data": {
            "text/plain": [
              "<IPython.core.display.Markdown object>"
            ],
            "text/markdown": "> Resposta: \n> \n>  ```python\n> def soma(a, b):\n>   \"\"\"Soma dois números.\n> \n>   Args:\n>     a: O primeiro número.\n>     b: O segundo número.\n> \n>   Returns:\n>     A soma dos dois números.\n>   \"\"\"\n> \n>   return a + b\n> ```\n> \n> Este trecho de código define uma função Python chamada `soma` que soma dois números. A função recebe dois argumentos, `a` e `b`, que são os números a serem somados. A função retorna a soma dos dois números.\n> \n> A função também inclui uma string de documentação (docstring) que descreve o que a função faz, seus argumentos e seu valor de retorno. \n> \n"
          },
          "metadata": {}
        },
        {
          "name": "stdout",
          "output_type": "stream",
          "text": [
            "prompt: o que esse trecho de codigo faz   chat = model.start_chat(history=[])\n"
          ]
        },
        {
          "output_type": "display_data",
          "data": {
            "text/plain": [
              "<IPython.core.display.Markdown object>"
            ],
            "text/markdown": "> Resposta: \n> \n>  O trecho de código `chat = model.start_chat(history=[])` inicia um novo chat com um modelo de linguagem.\n> \n> * `model` é uma instância de um modelo de linguagem, como o GPT-3 ou o BLOOM.\n> * `history` é uma lista de mensagens anteriores no chat.\n> \n> O método `start_chat` inicializa o estado interno do modelo de linguagem e retorna um objeto de chat que pode ser usado para enviar e receber mensagens.\n> \n> Iniciar um novo chat é útil quando você deseja começar uma nova conversa com o modelo de linguagem ou quando deseja redefinir o estado do chat. \n> \n"
          },
          "metadata": {}
        },
        {
          "name": "stdout",
          "output_type": "stream",
          "text": [
            "prompt: fim\n"
          ]
        }
      ]
    },
    {
      "cell_type": "markdown",
      "source": [
        "## exibindo historico com formatação simples pelo markdown"
      ],
      "metadata": {
        "id": "EM2WJvR0p8nz"
      }
    },
    {
      "cell_type": "code",
      "source": [
        "#melhorando a vizualização\n",
        "import textwrap\n",
        "from IPython.display import display\n",
        "from IPython.display import Markdown\n",
        "\n",
        "\n",
        "def to_markdown(text):\n",
        "  text = text.replace('•', '  *')\n",
        "  return Markdown(textwrap.indent(text, '> ', predicate=lambda _: True))\n",
        "\n",
        "#impriminso Histórico\n",
        "for message in chat.history:\n",
        "  display(to_markdown(f'**{message.role}**: {message.parts[0].text}'))\n",
        "  print('-------------------------------------------')"
      ],
      "metadata": {
        "colab": {
          "base_uri": "https://localhost:8080/",
          "height": 1000
        },
        "id": "18l_aU8zcG3z",
        "outputId": "e19bb743-5553-4221-d0d9-685e08bacdbd"
      },
      "execution_count": 42,
      "outputs": [
        {
          "output_type": "display_data",
          "data": {
            "text/plain": [
              "<IPython.core.display.Markdown object>"
            ],
            "text/markdown": "> **user**: que horas são?"
          },
          "metadata": {}
        },
        {
          "output_type": "stream",
          "name": "stdout",
          "text": [
            "-------------------------------------------\n"
          ]
        },
        {
          "output_type": "display_data",
          "data": {
            "text/plain": [
              "<IPython.core.display.Markdown object>"
            ],
            "text/markdown": "> **model**: Não tenho acesso à hora atual."
          },
          "metadata": {}
        },
        {
          "output_type": "stream",
          "name": "stdout",
          "text": [
            "-------------------------------------------\n"
          ]
        },
        {
          "output_type": "display_data",
          "data": {
            "text/plain": [
              "<IPython.core.display.Markdown object>"
            ],
            "text/markdown": "> **user**: que horas são?"
          },
          "metadata": {}
        },
        {
          "output_type": "stream",
          "name": "stdout",
          "text": [
            "-------------------------------------------\n"
          ]
        },
        {
          "output_type": "display_data",
          "data": {
            "text/plain": [
              "<IPython.core.display.Markdown object>"
            ],
            "text/markdown": "> **model**: Como um modelo de linguagem de IA, não tenho acesso à hora atual."
          },
          "metadata": {}
        },
        {
          "output_type": "stream",
          "name": "stdout",
          "text": [
            "-------------------------------------------\n"
          ]
        },
        {
          "output_type": "display_data",
          "data": {
            "text/plain": [
              "<IPython.core.display.Markdown object>"
            ],
            "text/markdown": "> **user**: que horas são?"
          },
          "metadata": {}
        },
        {
          "output_type": "stream",
          "name": "stdout",
          "text": [
            "-------------------------------------------\n"
          ]
        },
        {
          "output_type": "display_data",
          "data": {
            "text/plain": [
              "<IPython.core.display.Markdown object>"
            ],
            "text/markdown": "> **model**: Não tenho acesso à hora atual e não posso fornecer essa informação."
          },
          "metadata": {}
        },
        {
          "output_type": "stream",
          "name": "stdout",
          "text": [
            "-------------------------------------------\n"
          ]
        },
        {
          "output_type": "display_data",
          "data": {
            "text/plain": [
              "<IPython.core.display.Markdown object>"
            ],
            "text/markdown": "> **user**: que horas são?"
          },
          "metadata": {}
        },
        {
          "output_type": "stream",
          "name": "stdout",
          "text": [
            "-------------------------------------------\n"
          ]
        },
        {
          "output_type": "display_data",
          "data": {
            "text/plain": [
              "<IPython.core.display.Markdown object>"
            ],
            "text/markdown": "> **model**: Não tenho acesso à hora atual e não posso fornecer essa informação."
          },
          "metadata": {}
        },
        {
          "output_type": "stream",
          "name": "stdout",
          "text": [
            "-------------------------------------------\n"
          ]
        },
        {
          "output_type": "display_data",
          "data": {
            "text/plain": [
              "<IPython.core.display.Markdown object>"
            ],
            "text/markdown": "> **user**: que horas são?"
          },
          "metadata": {}
        },
        {
          "output_type": "stream",
          "name": "stdout",
          "text": [
            "-------------------------------------------\n"
          ]
        },
        {
          "output_type": "display_data",
          "data": {
            "text/plain": [
              "<IPython.core.display.Markdown object>"
            ],
            "text/markdown": "> **model**: Não tenho acesso à hora atual e não posso fornecer essa informação."
          },
          "metadata": {}
        },
        {
          "output_type": "stream",
          "name": "stdout",
          "text": [
            "-------------------------------------------\n"
          ]
        },
        {
          "output_type": "display_data",
          "data": {
            "text/plain": [
              "<IPython.core.display.Markdown object>"
            ],
            "text/markdown": "> **user**: que horas são?"
          },
          "metadata": {}
        },
        {
          "output_type": "stream",
          "name": "stdout",
          "text": [
            "-------------------------------------------\n"
          ]
        },
        {
          "output_type": "display_data",
          "data": {
            "text/plain": [
              "<IPython.core.display.Markdown object>"
            ],
            "text/markdown": "> **model**: Não tenho acesso à hora atual e não posso fornecer essa informação."
          },
          "metadata": {}
        },
        {
          "output_type": "stream",
          "name": "stdout",
          "text": [
            "-------------------------------------------\n"
          ]
        },
        {
          "output_type": "display_data",
          "data": {
            "text/plain": [
              "<IPython.core.display.Markdown object>"
            ],
            "text/markdown": "> **user**: que horas são?"
          },
          "metadata": {}
        },
        {
          "output_type": "stream",
          "name": "stdout",
          "text": [
            "-------------------------------------------\n"
          ]
        },
        {
          "output_type": "display_data",
          "data": {
            "text/plain": [
              "<IPython.core.display.Markdown object>"
            ],
            "text/markdown": "> **model**: Não tenho acesso à hora atual e não posso fornecer essa informação."
          },
          "metadata": {}
        },
        {
          "output_type": "stream",
          "name": "stdout",
          "text": [
            "-------------------------------------------\n"
          ]
        },
        {
          "output_type": "display_data",
          "data": {
            "text/plain": [
              "<IPython.core.display.Markdown object>"
            ],
            "text/markdown": "> **user**: que horas são?"
          },
          "metadata": {}
        },
        {
          "output_type": "stream",
          "name": "stdout",
          "text": [
            "-------------------------------------------\n"
          ]
        },
        {
          "output_type": "display_data",
          "data": {
            "text/plain": [
              "<IPython.core.display.Markdown object>"
            ],
            "text/markdown": "> **model**: Não tenho acesso à hora atual e não posso fornecer essa informação."
          },
          "metadata": {}
        },
        {
          "output_type": "stream",
          "name": "stdout",
          "text": [
            "-------------------------------------------\n"
          ]
        },
        {
          "output_type": "display_data",
          "data": {
            "text/plain": [
              "<IPython.core.display.Markdown object>"
            ],
            "text/markdown": "> **user**: que horas são?"
          },
          "metadata": {}
        },
        {
          "output_type": "stream",
          "name": "stdout",
          "text": [
            "-------------------------------------------\n"
          ]
        },
        {
          "output_type": "display_data",
          "data": {
            "text/plain": [
              "<IPython.core.display.Markdown object>"
            ],
            "text/markdown": "> **model**: Não tenho acesso à hora atual e não posso fornecer essa informação."
          },
          "metadata": {}
        },
        {
          "output_type": "stream",
          "name": "stdout",
          "text": [
            "-------------------------------------------\n"
          ]
        },
        {
          "output_type": "display_data",
          "data": {
            "text/plain": [
              "<IPython.core.display.Markdown object>"
            ],
            "text/markdown": "> **user**: que horas são?"
          },
          "metadata": {}
        },
        {
          "output_type": "stream",
          "name": "stdout",
          "text": [
            "-------------------------------------------\n"
          ]
        },
        {
          "output_type": "display_data",
          "data": {
            "text/plain": [
              "<IPython.core.display.Markdown object>"
            ],
            "text/markdown": "> **model**: Não tenho acesso à hora atual e não posso fornecer essa informação."
          },
          "metadata": {}
        },
        {
          "output_type": "stream",
          "name": "stdout",
          "text": [
            "-------------------------------------------\n"
          ]
        },
        {
          "output_type": "display_data",
          "data": {
            "text/plain": [
              "<IPython.core.display.Markdown object>"
            ],
            "text/markdown": "> **user**: que horas são?"
          },
          "metadata": {}
        },
        {
          "output_type": "stream",
          "name": "stdout",
          "text": [
            "-------------------------------------------\n"
          ]
        },
        {
          "output_type": "display_data",
          "data": {
            "text/plain": [
              "<IPython.core.display.Markdown object>"
            ],
            "text/markdown": "> **model**: Não tenho acesso à hora atual e não posso fornecer essa informação."
          },
          "metadata": {}
        },
        {
          "output_type": "stream",
          "name": "stdout",
          "text": [
            "-------------------------------------------\n"
          ]
        },
        {
          "output_type": "display_data",
          "data": {
            "text/plain": [
              "<IPython.core.display.Markdown object>"
            ],
            "text/markdown": "> **user**: que horas são?"
          },
          "metadata": {}
        },
        {
          "output_type": "stream",
          "name": "stdout",
          "text": [
            "-------------------------------------------\n"
          ]
        },
        {
          "output_type": "display_data",
          "data": {
            "text/plain": [
              "<IPython.core.display.Markdown object>"
            ],
            "text/markdown": "> **model**: Não tenho acesso à hora atual e não posso fornecer essa informação."
          },
          "metadata": {}
        },
        {
          "output_type": "stream",
          "name": "stdout",
          "text": [
            "-------------------------------------------\n"
          ]
        },
        {
          "output_type": "display_data",
          "data": {
            "text/plain": [
              "<IPython.core.display.Markdown object>"
            ],
            "text/markdown": "> **user**: que horas são?"
          },
          "metadata": {}
        },
        {
          "output_type": "stream",
          "name": "stdout",
          "text": [
            "-------------------------------------------\n"
          ]
        },
        {
          "output_type": "display_data",
          "data": {
            "text/plain": [
              "<IPython.core.display.Markdown object>"
            ],
            "text/markdown": "> **model**: Não tenho acesso à hora atual e não posso fornecer essa informação."
          },
          "metadata": {}
        },
        {
          "output_type": "stream",
          "name": "stdout",
          "text": [
            "-------------------------------------------\n"
          ]
        },
        {
          "output_type": "display_data",
          "data": {
            "text/plain": [
              "<IPython.core.display.Markdown object>"
            ],
            "text/markdown": "> **user**: que horas são?"
          },
          "metadata": {}
        },
        {
          "output_type": "stream",
          "name": "stdout",
          "text": [
            "-------------------------------------------\n"
          ]
        },
        {
          "output_type": "display_data",
          "data": {
            "text/plain": [
              "<IPython.core.display.Markdown object>"
            ],
            "text/markdown": "> **model**: Não tenho acesso à hora atual e não posso fornecer essa informação."
          },
          "metadata": {}
        },
        {
          "output_type": "stream",
          "name": "stdout",
          "text": [
            "-------------------------------------------\n"
          ]
        },
        {
          "output_type": "display_data",
          "data": {
            "text/plain": [
              "<IPython.core.display.Markdown object>"
            ],
            "text/markdown": "> **user**: que horas são?"
          },
          "metadata": {}
        },
        {
          "output_type": "stream",
          "name": "stdout",
          "text": [
            "-------------------------------------------\n"
          ]
        },
        {
          "output_type": "display_data",
          "data": {
            "text/plain": [
              "<IPython.core.display.Markdown object>"
            ],
            "text/markdown": "> **model**: Não tenho acesso à hora atual e não posso fornecer essa informação."
          },
          "metadata": {}
        },
        {
          "output_type": "stream",
          "name": "stdout",
          "text": [
            "-------------------------------------------\n"
          ]
        },
        {
          "output_type": "display_data",
          "data": {
            "text/plain": [
              "<IPython.core.display.Markdown object>"
            ],
            "text/markdown": "> **user**: que horas são?"
          },
          "metadata": {}
        },
        {
          "output_type": "stream",
          "name": "stdout",
          "text": [
            "-------------------------------------------\n"
          ]
        },
        {
          "output_type": "display_data",
          "data": {
            "text/plain": [
              "<IPython.core.display.Markdown object>"
            ],
            "text/markdown": "> **model**: Não tenho acesso à hora atual e não posso fornecer essa informação."
          },
          "metadata": {}
        },
        {
          "output_type": "stream",
          "name": "stdout",
          "text": [
            "-------------------------------------------\n"
          ]
        },
        {
          "output_type": "display_data",
          "data": {
            "text/plain": [
              "<IPython.core.display.Markdown object>"
            ],
            "text/markdown": "> **user**: que horas são?"
          },
          "metadata": {}
        },
        {
          "output_type": "stream",
          "name": "stdout",
          "text": [
            "-------------------------------------------\n"
          ]
        },
        {
          "output_type": "display_data",
          "data": {
            "text/plain": [
              "<IPython.core.display.Markdown object>"
            ],
            "text/markdown": "> **model**: Não tenho acesso à hora atual e não posso fornecer essa informação."
          },
          "metadata": {}
        },
        {
          "output_type": "stream",
          "name": "stdout",
          "text": [
            "-------------------------------------------\n"
          ]
        },
        {
          "output_type": "display_data",
          "data": {
            "text/plain": [
              "<IPython.core.display.Markdown object>"
            ],
            "text/markdown": "> **user**: que horas são?"
          },
          "metadata": {}
        },
        {
          "output_type": "stream",
          "name": "stdout",
          "text": [
            "-------------------------------------------\n"
          ]
        },
        {
          "output_type": "display_data",
          "data": {
            "text/plain": [
              "<IPython.core.display.Markdown object>"
            ],
            "text/markdown": "> **model**: Não tenho acesso à hora atual e não posso fornecer essa informação."
          },
          "metadata": {}
        },
        {
          "output_type": "stream",
          "name": "stdout",
          "text": [
            "-------------------------------------------\n"
          ]
        },
        {
          "output_type": "display_data",
          "data": {
            "text/plain": [
              "<IPython.core.display.Markdown object>"
            ],
            "text/markdown": "> **user**: que horas são?"
          },
          "metadata": {}
        },
        {
          "output_type": "stream",
          "name": "stdout",
          "text": [
            "-------------------------------------------\n"
          ]
        },
        {
          "output_type": "display_data",
          "data": {
            "text/plain": [
              "<IPython.core.display.Markdown object>"
            ],
            "text/markdown": "> **model**: Não tenho acesso à hora atual e não posso fornecer essa informação."
          },
          "metadata": {}
        },
        {
          "output_type": "stream",
          "name": "stdout",
          "text": [
            "-------------------------------------------\n"
          ]
        },
        {
          "output_type": "display_data",
          "data": {
            "text/plain": [
              "<IPython.core.display.Markdown object>"
            ],
            "text/markdown": "> **user**: por que o ceu é azul?"
          },
          "metadata": {}
        },
        {
          "output_type": "stream",
          "name": "stdout",
          "text": [
            "-------------------------------------------\n"
          ]
        },
        {
          "output_type": "display_data",
          "data": {
            "text/plain": [
              "<IPython.core.display.Markdown object>"
            ],
            "text/markdown": "> **model**: O céu parece azul devido a um fenômeno chamado dispersão de Rayleigh. A luz do sol é composta de todas as cores do espectro visível. Quando a luz solar entra na atmosfera da Terra, ela interage com as moléculas de nitrogênio e oxigênio. Essas moléculas são muito menores que o comprimento de onda da luz visível, então elas espalham a luz em todas as direções. No entanto, a luz azul é espalhada mais fortemente do que outras cores porque tem um comprimento de onda mais curto. Isso ocorre porque a quantidade de dispersão é inversamente proporcional à quarta potência do comprimento de onda. Como resultado, vemos mais luz azul no céu durante o dia."
          },
          "metadata": {}
        },
        {
          "output_type": "stream",
          "name": "stdout",
          "text": [
            "-------------------------------------------\n"
          ]
        },
        {
          "output_type": "display_data",
          "data": {
            "text/plain": [
              "<IPython.core.display.Markdown object>"
            ],
            "text/markdown": "> **user**: qual a capital do japao"
          },
          "metadata": {}
        },
        {
          "output_type": "stream",
          "name": "stdout",
          "text": [
            "-------------------------------------------\n"
          ]
        },
        {
          "output_type": "display_data",
          "data": {
            "text/plain": [
              "<IPython.core.display.Markdown object>"
            ],
            "text/markdown": "> **model**: Tóquio"
          },
          "metadata": {}
        },
        {
          "output_type": "stream",
          "name": "stdout",
          "text": [
            "-------------------------------------------\n"
          ]
        },
        {
          "output_type": "display_data",
          "data": {
            "text/plain": [
              "<IPython.core.display.Markdown object>"
            ],
            "text/markdown": "> **user**: qual a comida tipica desse pais"
          },
          "metadata": {}
        },
        {
          "output_type": "stream",
          "name": "stdout",
          "text": [
            "-------------------------------------------\n"
          ]
        },
        {
          "output_type": "display_data",
          "data": {
            "text/plain": [
              "<IPython.core.display.Markdown object>"
            ],
            "text/markdown": "> **model**: Sushi"
          },
          "metadata": {}
        },
        {
          "output_type": "stream",
          "name": "stdout",
          "text": [
            "-------------------------------------------\n"
          ]
        },
        {
          "output_type": "display_data",
          "data": {
            "text/plain": [
              "<IPython.core.display.Markdown object>"
            ],
            "text/markdown": "> **user**: qual o tipo de entreterimento preferido do povo desse pais"
          },
          "metadata": {}
        },
        {
          "output_type": "stream",
          "name": "stdout",
          "text": [
            "-------------------------------------------\n"
          ]
        },
        {
          "output_type": "display_data",
          "data": {
            "text/plain": [
              "<IPython.core.display.Markdown object>"
            ],
            "text/markdown": "> **model**: Karaokê"
          },
          "metadata": {}
        },
        {
          "output_type": "stream",
          "name": "stdout",
          "text": [
            "-------------------------------------------\n"
          ]
        },
        {
          "output_type": "display_data",
          "data": {
            "text/plain": [
              "<IPython.core.display.Markdown object>"
            ],
            "text/markdown": "> **user**: capital do brasil"
          },
          "metadata": {}
        },
        {
          "output_type": "stream",
          "name": "stdout",
          "text": [
            "-------------------------------------------\n"
          ]
        },
        {
          "output_type": "display_data",
          "data": {
            "text/plain": [
              "<IPython.core.display.Markdown object>"
            ],
            "text/markdown": "> **model**: Brasília"
          },
          "metadata": {}
        },
        {
          "output_type": "stream",
          "name": "stdout",
          "text": [
            "-------------------------------------------\n"
          ]
        },
        {
          "output_type": "display_data",
          "data": {
            "text/plain": [
              "<IPython.core.display.Markdown object>"
            ],
            "text/markdown": "> **user**: capital do brasil"
          },
          "metadata": {}
        },
        {
          "output_type": "stream",
          "name": "stdout",
          "text": [
            "-------------------------------------------\n"
          ]
        },
        {
          "output_type": "display_data",
          "data": {
            "text/plain": [
              "<IPython.core.display.Markdown object>"
            ],
            "text/markdown": "> **model**: Brasília"
          },
          "metadata": {}
        },
        {
          "output_type": "stream",
          "name": "stdout",
          "text": [
            "-------------------------------------------\n"
          ]
        },
        {
          "output_type": "display_data",
          "data": {
            "text/plain": [
              "<IPython.core.display.Markdown object>"
            ],
            "text/markdown": "> **user**: boa noite, qual mes estamoså"
          },
          "metadata": {}
        },
        {
          "output_type": "stream",
          "name": "stdout",
          "text": [
            "-------------------------------------------\n"
          ]
        },
        {
          "output_type": "display_data",
          "data": {
            "text/plain": [
              "<IPython.core.display.Markdown object>"
            ],
            "text/markdown": "> **model**: Fevereiro"
          },
          "metadata": {}
        },
        {
          "output_type": "stream",
          "name": "stdout",
          "text": [
            "-------------------------------------------\n"
          ]
        },
        {
          "output_type": "display_data",
          "data": {
            "text/plain": [
              "<IPython.core.display.Markdown object>"
            ],
            "text/markdown": "> **user**: obrigada !"
          },
          "metadata": {}
        },
        {
          "output_type": "stream",
          "name": "stdout",
          "text": [
            "-------------------------------------------\n"
          ]
        },
        {
          "output_type": "display_data",
          "data": {
            "text/plain": [
              "<IPython.core.display.Markdown object>"
            ],
            "text/markdown": "> **model**: De nada!"
          },
          "metadata": {}
        },
        {
          "output_type": "stream",
          "name": "stdout",
          "text": [
            "-------------------------------------------\n"
          ]
        },
        {
          "output_type": "display_data",
          "data": {
            "text/plain": [
              "<IPython.core.display.Markdown object>"
            ],
            "text/markdown": "> **user**: boa noite!"
          },
          "metadata": {}
        },
        {
          "output_type": "stream",
          "name": "stdout",
          "text": [
            "-------------------------------------------\n"
          ]
        },
        {
          "output_type": "display_data",
          "data": {
            "text/plain": [
              "<IPython.core.display.Markdown object>"
            ],
            "text/markdown": "> **model**: Boa noite!"
          },
          "metadata": {}
        },
        {
          "output_type": "stream",
          "name": "stdout",
          "text": [
            "-------------------------------------------\n"
          ]
        },
        {
          "output_type": "display_data",
          "data": {
            "text/plain": [
              "<IPython.core.display.Markdown object>"
            ],
            "text/markdown": "> **user**: pode me falar uma receita de bolo de cenoura"
          },
          "metadata": {}
        },
        {
          "output_type": "stream",
          "name": "stdout",
          "text": [
            "-------------------------------------------\n"
          ]
        },
        {
          "output_type": "display_data",
          "data": {
            "text/plain": [
              "<IPython.core.display.Markdown object>"
            ],
            "text/markdown": "> **model**: **Ingredientes:**\n> \n> * 2 xícaras (chá) de farinha de trigo\n> * 2 xícaras (chá) de açúcar\n> * 3 cenouras médias raladas\n> * 4 ovos\n> * 1/2 xícara (chá) de óleo\n> * 1 colher (sopa) de fermento em pó\n> \n> **Cobertura:**\n> \n> * 1 lata de leite condensado\n> * 1 colher (sopa) de manteiga\n> * 5 colheres (sopa) de chocolate em pó\n> \n> **Modo de preparo:**\n> \n> 1. Pré-aqueça o forno a 180°C. Unte e enfarinhe uma forma de 23 cm de diâmetro.\n> 2. Em uma tigela grande, misture a farinha, o açúcar, a cenoura ralada, os ovos, o óleo e o fermento em pó.\n> 3. Despeje a massa na forma preparada e asse por cerca de 40 minutos, ou até que um palito inserido no centro saia limpo.\n> 4. Deixe o bolo esfriar completamente.\n> \n> **Cobertura:**\n> \n> 1. Em uma panela, misture o leite condensado, a manteiga e o chocolate em pó.\n> 2. Leve ao fogo médio, mexendo sempre, até engrossar.\n> 3. Despeje a cobertura sobre o bolo frio e sirva."
          },
          "metadata": {}
        },
        {
          "output_type": "stream",
          "name": "stdout",
          "text": [
            "-------------------------------------------\n"
          ]
        },
        {
          "output_type": "display_data",
          "data": {
            "text/plain": [
              "<IPython.core.display.Markdown object>"
            ],
            "text/markdown": "> **user**: pode me falar uma receita de bolo de chocolate"
          },
          "metadata": {}
        },
        {
          "output_type": "stream",
          "name": "stdout",
          "text": [
            "-------------------------------------------\n"
          ]
        },
        {
          "output_type": "display_data",
          "data": {
            "text/plain": [
              "<IPython.core.display.Markdown object>"
            ],
            "text/markdown": "> **model**: **Ingredientes:**\n> \n> * 2 xícaras (chá) de farinha de trigo\n> * 2 xícaras (chá) de açúcar\n> * 3/4 xícara (chá) de cacau em pó\n> * 1 colher (sopa) de fermento em pó\n> * 1/2 colher (chá) de bicarbonato de sódio\n> * 1/2 colher (chá) de sal\n> * 1 xícara (chá) de leite\n> * 1/2 xícara (chá) de óleo\n> * 2 ovos\n> * 1 colher (chá) de extrato de baunilha\n> \n> **Cobertura:**\n> \n> * 1 xícara (chá) de chocolate meio amargo picado\n> * 1/2 xícara (chá) de creme de leite\n> * 1 colher (sopa) de manteiga\n> \n> **Modo de preparo:**\n> \n> 1. Pré-aqueça o forno a 180°C. Unte e enfarinhe uma forma de 23 cm de diâmetro.\n> 2. Em uma tigela grande, misture a farinha, o açúcar, o cacau em pó, o fermento em pó, o bicarbonato de sódio e o sal.\n> 3. Em outra tigela, misture o leite, o óleo, os ovos e o extrato de baunilha.\n> 4. Adicione os ingredientes líquidos aos ingredientes secos e misture até obter uma massa homogênea.\n> 5. Despeje a massa na forma preparada e asse por cerca de 30 minutos, ou até que um palito inserido no centro saia limpo.\n> 6. Deixe o bolo esfriar completamente.\n> \n> **Cobertura:**\n> \n> 1. Em uma tigela refratária, derreta o chocolate meio amargo no micro-ondas ou em banho-maria.\n> 2. Adicione o creme de leite e a manteiga e misture até obter um creme homogêneo.\n> 3. Despeje a cobertura sobre o bolo frio e sirva."
          },
          "metadata": {}
        },
        {
          "output_type": "stream",
          "name": "stdout",
          "text": [
            "-------------------------------------------\n"
          ]
        },
        {
          "output_type": "display_data",
          "data": {
            "text/plain": [
              "<IPython.core.display.Markdown object>"
            ],
            "text/markdown": "> **user**: sao Paulo fica a onde"
          },
          "metadata": {}
        },
        {
          "output_type": "stream",
          "name": "stdout",
          "text": [
            "-------------------------------------------\n"
          ]
        },
        {
          "output_type": "display_data",
          "data": {
            "text/plain": [
              "<IPython.core.display.Markdown object>"
            ],
            "text/markdown": "> **model**: Sudeste do Brasil"
          },
          "metadata": {}
        },
        {
          "output_type": "stream",
          "name": "stdout",
          "text": [
            "-------------------------------------------\n"
          ]
        },
        {
          "output_type": "display_data",
          "data": {
            "text/plain": [
              "<IPython.core.display.Markdown object>"
            ],
            "text/markdown": "> **user**: qual a idade da cidade de cachoeira paulista, e quem fundou ela"
          },
          "metadata": {}
        },
        {
          "output_type": "stream",
          "name": "stdout",
          "text": [
            "-------------------------------------------\n"
          ]
        },
        {
          "output_type": "display_data",
          "data": {
            "text/plain": [
              "<IPython.core.display.Markdown object>"
            ],
            "text/markdown": "> **model**: **Idade:** 163 anos\n> \n> **Fundação:** 2 de fevereiro de 1860\n> \n> **Fundador:** Coronel Joaquim Sertório\n> \n> Cachoeira Paulista foi fundada como um povoado às margens do Rio Paraíba do Sul, em uma região conhecida como \"Cachoeira\". O nome do município é uma referência à cachoeira que existia no local."
          },
          "metadata": {}
        },
        {
          "output_type": "stream",
          "name": "stdout",
          "text": [
            "-------------------------------------------\n"
          ]
        },
        {
          "output_type": "display_data",
          "data": {
            "text/plain": [
              "<IPython.core.display.Markdown object>"
            ],
            "text/markdown": "> **user**: gere uma receita de algodao doce"
          },
          "metadata": {}
        },
        {
          "output_type": "stream",
          "name": "stdout",
          "text": [
            "-------------------------------------------\n"
          ]
        },
        {
          "output_type": "display_data",
          "data": {
            "text/plain": [
              "<IPython.core.display.Markdown object>"
            ],
            "text/markdown": "> **model**: **Ingredientes:**\n> \n> * 1 xícara (chá) de açúcar\n> * 1/4 xícara (chá) de água\n> * 1/4 colher (chá) de extrato de baunilha (opcional)\n> * Corante alimentício em gel (opcional)\n> \n> **Equipamentos:**\n> \n> * Máquina de algodão doce\n> * Cones de algodão doce\n> \n> **Modo de preparo:**\n> \n> 1. Coloque o açúcar e a água em uma panela pequena.\n> 2. Leve ao fogo médio e mexa até que o açúcar se dissolva completamente.\n> 3. Adicione o extrato de baunilha, se desejar.\n> 4. Continue cozinhando, sem mexer, até que a calda atinja o ponto de fio (cerca de 145°C). Para testar o ponto, pingue uma gota da calda em um copo com água fria. Se a gota formar um fio fino que se quebra facilmente, a calda está pronta.\n> 5. Se desejar, adicione algumas gotas de corante alimentício em gel à calda e misture bem.\n> 6. Desligue o fogo e despeje a calda quente na máquina de algodão doce.\n> 7. Ligue a máquina e comece a enrolar o algodão doce nos cones.\n> \n> **Dicas:**\n> \n> * Para obter um algodão doce mais fofo, use açúcar refinado.\n> * Se a calda ficar muito espessa, adicione um pouco mais de água.\n> * Se a calda ficar muito fina, continue cozinhando até atingir o ponto correto.\n> * Você pode adicionar outros sabores à calda, como frutas vermelhas, chocolate ou menta."
          },
          "metadata": {}
        },
        {
          "output_type": "stream",
          "name": "stdout",
          "text": [
            "-------------------------------------------\n"
          ]
        },
        {
          "output_type": "display_data",
          "data": {
            "text/plain": [
              "<IPython.core.display.Markdown object>"
            ],
            "text/markdown": "> **user**: escreva um poema simples com o tema informatica"
          },
          "metadata": {}
        },
        {
          "output_type": "stream",
          "name": "stdout",
          "text": [
            "-------------------------------------------\n"
          ]
        },
        {
          "output_type": "display_data",
          "data": {
            "text/plain": [
              "<IPython.core.display.Markdown object>"
            ],
            "text/markdown": "> **model**: **Informática**\n> \n> Oh, informática, mundo digital,\n> Onde bits e bytes dançam sem igual.\n> Computadores, redes, uma vasta teia,\n> Conectando mentes, quebrando barreiras com destreza.\n> \n> Processadores velozes, memória vasta,\n> Armazenando dados, informações contrastadas.\n> Programas e aplicativos, ferramentas sem fim,\n> Facilitando tarefas, tornando sonhos possíveis enfim.\n> \n> Da internet ao software, um universo a explorar,\n> Conhecimento e inovação, sempre a se propagar.\n> Informática, tecnologia que avança,\n> Transformando vidas, abrindo novas chances.\n> \n> No mundo digital, onde a imaginação voa,\n> A informática nos guia, nos inspira e inova."
          },
          "metadata": {}
        },
        {
          "output_type": "stream",
          "name": "stdout",
          "text": [
            "-------------------------------------------\n"
          ]
        },
        {
          "output_type": "display_data",
          "data": {
            "text/plain": [
              "<IPython.core.display.Markdown object>"
            ],
            "text/markdown": "> **user**: poema simples"
          },
          "metadata": {}
        },
        {
          "output_type": "stream",
          "name": "stdout",
          "text": [
            "-------------------------------------------\n"
          ]
        },
        {
          "output_type": "display_data",
          "data": {
            "text/plain": [
              "<IPython.core.display.Markdown object>"
            ],
            "text/markdown": "> **model**: **Simplicidade**\n> \n> No silêncio da manhã,\n> O canto dos pássaros,\n> Uma melodia serena,\n> Que enche o coração de paz.\n> \n> Uma flor desabrocha,\n> Suas pétalas delicadas,\n> Um toque de cor e graça,\n> Na beleza da natureza.\n> \n> Um sorriso de criança,\n> Um olhar cheio de inocência,\n> Um momento de pura alegria,\n> Que aquece a alma.\n> \n> Simplicidade,\n> Na essência das coisas,\n> Encontramos a verdadeira beleza,\n> E a felicidade que nos traz."
          },
          "metadata": {}
        },
        {
          "output_type": "stream",
          "name": "stdout",
          "text": [
            "-------------------------------------------\n"
          ]
        },
        {
          "output_type": "display_data",
          "data": {
            "text/plain": [
              "<IPython.core.display.Markdown object>"
            ],
            "text/markdown": "> **user**: pulando linha com o markdown"
          },
          "metadata": {}
        },
        {
          "output_type": "stream",
          "name": "stdout",
          "text": [
            "-------------------------------------------\n"
          ]
        },
        {
          "output_type": "display_data",
          "data": {
            "text/plain": [
              "<IPython.core.display.Markdown object>"
            ],
            "text/markdown": "> **model**: Para pular uma linha com o Markdown, você pode usar o caractere de quebra de linha (`\\n`).\n> \n> Por exemplo:\n> \n> ```\n> Linha 1\n> \\n\n> Linha 2\n> ```\n> \n> Isso produzirá:\n> \n> ```\n> Linha 1\n> \n> Linha 2\n> ```\n> \n> Você também pode usar dois espaços no final de uma linha para criar uma quebra de linha suave. Isso fará com que o texto flua para a próxima linha sem adicionar um espaço em branco extra.\n> \n> Por exemplo:\n> \n> ```\n> Linha 1  \n> Linha 2\n> ```\n> \n> Isso produzirá:\n> \n> ```\n> Linha 1\n> Linha 2\n> ```"
          },
          "metadata": {}
        },
        {
          "output_type": "stream",
          "name": "stdout",
          "text": [
            "-------------------------------------------\n"
          ]
        },
        {
          "output_type": "display_data",
          "data": {
            "text/plain": [
              "<IPython.core.display.Markdown object>"
            ],
            "text/markdown": "> **user**: receita de como fazer uma pipa"
          },
          "metadata": {}
        },
        {
          "output_type": "stream",
          "name": "stdout",
          "text": [
            "-------------------------------------------\n"
          ]
        },
        {
          "output_type": "display_data",
          "data": {
            "text/plain": [
              "<IPython.core.display.Markdown object>"
            ],
            "text/markdown": "> **model**: **Materiais:**\n> \n> * Varetas de bambu ou fibra de vidro (2 para o eixo vertical e 2 para o eixo horizontal)\n> * Papel seda ou plástico fino\n> * Linha ou barbante\n> * Tesoura\n> * Cola\n> * Régua ou fita métrica\n> \n> **Instruções:**\n> \n> 1. **Faça o eixo vertical:** Cruze as duas varetas de bambu ou fibra de vidro no centro e amarre-as com linha ou barbante.\n> 2. **Faça o eixo horizontal:** Amarre as outras duas varetas de bambu ou fibra de vidro paralelamente às primeiras, a cerca de 1/3 da distância do topo do eixo vertical.\n> 3. **Cubra a pipa:** Corte um pedaço de papel seda ou plástico fino grande o suficiente para cobrir o eixo. Cole o papel no eixo, alisando-o para remover quaisquer rugas.\n> 4. **Faça a cauda:** Corte tiras de papel seda ou plástico fino e amarre-as na parte inferior do eixo vertical. A cauda deve ter cerca de 2 a 3 vezes o comprimento da pipa.\n> 5. **Adicione a linha:** Amarre um pedaço de linha ou barbante no centro do eixo vertical.\n> \n> **Dicas:**\n> \n> * Para uma pipa mais resistente, use varetas de bambu ou fibra de vidro mais grossas.\n> * Você pode decorar sua pipa com desenhos ou padrões usando marcadores ou tinta.\n> * Para voar sua pipa, segure a linha e corra contra o vento.\n> \n> Aproveite sua pipa!"
          },
          "metadata": {}
        },
        {
          "output_type": "stream",
          "name": "stdout",
          "text": [
            "-------------------------------------------\n"
          ]
        },
        {
          "output_type": "display_data",
          "data": {
            "text/plain": [
              "<IPython.core.display.Markdown object>"
            ],
            "text/markdown": "> **user**: oi"
          },
          "metadata": {}
        },
        {
          "output_type": "stream",
          "name": "stdout",
          "text": [
            "-------------------------------------------\n"
          ]
        },
        {
          "output_type": "display_data",
          "data": {
            "text/plain": [
              "<IPython.core.display.Markdown object>"
            ],
            "text/markdown": "> **model**: Olá! Como posso ajudá-lo hoje?"
          },
          "metadata": {}
        },
        {
          "output_type": "stream",
          "name": "stdout",
          "text": [
            "-------------------------------------------\n"
          ]
        },
        {
          "output_type": "display_data",
          "data": {
            "text/plain": [
              "<IPython.core.display.Markdown object>"
            ],
            "text/markdown": "> **user**: oi"
          },
          "metadata": {}
        },
        {
          "output_type": "stream",
          "name": "stdout",
          "text": [
            "-------------------------------------------\n"
          ]
        },
        {
          "output_type": "display_data",
          "data": {
            "text/plain": [
              "<IPython.core.display.Markdown object>"
            ],
            "text/markdown": "> **model**: Olá! Tudo bem com você?"
          },
          "metadata": {}
        },
        {
          "output_type": "stream",
          "name": "stdout",
          "text": [
            "-------------------------------------------\n"
          ]
        },
        {
          "output_type": "display_data",
          "data": {
            "text/plain": [
              "<IPython.core.display.Markdown object>"
            ],
            "text/markdown": "> **user**: me fale uma receita de bolo"
          },
          "metadata": {}
        },
        {
          "output_type": "stream",
          "name": "stdout",
          "text": [
            "-------------------------------------------\n"
          ]
        },
        {
          "output_type": "display_data",
          "data": {
            "text/plain": [
              "<IPython.core.display.Markdown object>"
            ],
            "text/markdown": "> **model**: **Ingredientes:**\n> \n> * 2 xícaras (chá) de farinha de trigo\n> * 2 xícaras (chá) de açúcar\n> * 3 ovos\n> * 1 xícara (chá) de leite\n> * 1/2 xícara (chá) de óleo\n> * 1 colher (sopa) de fermento em pó\n> \n> **Modo de preparo:**\n> \n> 1. Pré-aqueça o forno a 180°C. Unte e enfarinhe uma forma de 23 cm de diâmetro.\n> 2. Em uma tigela grande, misture a farinha, o açúcar, os ovos, o leite, o óleo e o fermento em pó.\n> 3. Bata até obter uma massa homogênea.\n> 4. Despeje a massa na forma preparada e asse por cerca de 30 minutos, ou até que um palito inserido no centro saia limpo.\n> 5. Deixe o bolo esfriar completamente antes de servir.\n> \n> **Dicas:**\n> \n> * Para um bolo mais fofinho, bata as claras em neve antes de adicioná-las à massa.\n> * Você pode adicionar frutas, nozes ou chocolate à massa para dar mais sabor.\n> * Se você não tiver uma forma de 23 cm, pode usar uma forma menor ou maior, ajustando o tempo de cozimento de acordo."
          },
          "metadata": {}
        },
        {
          "output_type": "stream",
          "name": "stdout",
          "text": [
            "-------------------------------------------\n"
          ]
        },
        {
          "output_type": "display_data",
          "data": {
            "text/plain": [
              "<IPython.core.display.Markdown object>"
            ],
            "text/markdown": "> **user**: receita de merlusa frita na ayrfrie"
          },
          "metadata": {}
        },
        {
          "output_type": "stream",
          "name": "stdout",
          "text": [
            "-------------------------------------------\n"
          ]
        },
        {
          "output_type": "display_data",
          "data": {
            "text/plain": [
              "<IPython.core.display.Markdown object>"
            ],
            "text/markdown": "> **model**: **Ingredientes:**\n> \n> * 500g de filé de merlusa\n> * 1 xícara (chá) de farinha de trigo\n> * 1/2 xícara (chá) de amido de milho\n> * 1 colher (chá) de sal\n> * 1/2 colher (chá) de pimenta-do-reino\n> * 1 ovo\n> * 1/2 xícara (chá) de leite\n> * Óleo para untar a airfryer\n> \n> **Modo de preparo:**\n> \n> 1. Tempere os filés de merlusa com sal e pimenta-do-reino.\n> 2. Em um prato, misture a farinha de trigo e o amido de milho.\n> 3. Em outro prato, bata o ovo com o leite.\n> 4. Passe os filés de merlusa primeiro na mistura de farinha e amido de milho, depois na mistura de ovo e leite.\n> 5. Coloque os filés de merlusa na cesta da airfryer untada com óleo.\n> 6. Cozinhe a 200°C por 10 a 12 minutos, ou até que estejam dourados e crocantes.\n> 7. Sirva imediatamente.\n> \n> **Dicas:**\n> \n> * Para um empanado mais crocante, passe os filés de merlusa na farinha de rosca depois de passá-los na mistura de ovo e leite.\n> * Você pode temperar os filés de merlusa com outras ervas e especiarias, como páprica, alho em pó ou orégano.\n> * Sirva os filés de merlusa frita com arroz, batatas fritas ou salada."
          },
          "metadata": {}
        },
        {
          "output_type": "stream",
          "name": "stdout",
          "text": [
            "-------------------------------------------\n"
          ]
        },
        {
          "output_type": "display_data",
          "data": {
            "text/plain": [
              "<IPython.core.display.Markdown object>"
            ],
            "text/markdown": "> **user**: traduza safety"
          },
          "metadata": {}
        },
        {
          "output_type": "stream",
          "name": "stdout",
          "text": [
            "-------------------------------------------\n"
          ]
        },
        {
          "output_type": "display_data",
          "data": {
            "text/plain": [
              "<IPython.core.display.Markdown object>"
            ],
            "text/markdown": "> **model**: Segurança"
          },
          "metadata": {}
        },
        {
          "output_type": "stream",
          "name": "stdout",
          "text": [
            "-------------------------------------------\n"
          ]
        },
        {
          "output_type": "display_data",
          "data": {
            "text/plain": [
              "<IPython.core.display.Markdown object>"
            ],
            "text/markdown": "> **user**: o que esse trecho de codigo faz "
          },
          "metadata": {}
        },
        {
          "output_type": "stream",
          "name": "stdout",
          "text": [
            "-------------------------------------------\n"
          ]
        },
        {
          "output_type": "display_data",
          "data": {
            "text/plain": [
              "<IPython.core.display.Markdown object>"
            ],
            "text/markdown": "> **model**: ```python\n> def soma(a, b):\n>   \"\"\"Soma dois números.\n> \n>   Args:\n>     a: O primeiro número.\n>     b: O segundo número.\n> \n>   Returns:\n>     A soma dos dois números.\n>   \"\"\"\n> \n>   return a + b\n> ```\n> \n> Este trecho de código define uma função Python chamada `soma` que soma dois números. A função recebe dois argumentos, `a` e `b`, que são os números a serem somados. A função retorna a soma dos dois números.\n> \n> A função também inclui uma string de documentação (docstring) que descreve o que a função faz, seus argumentos e seu valor de retorno."
          },
          "metadata": {}
        },
        {
          "output_type": "stream",
          "name": "stdout",
          "text": [
            "-------------------------------------------\n"
          ]
        },
        {
          "output_type": "display_data",
          "data": {
            "text/plain": [
              "<IPython.core.display.Markdown object>"
            ],
            "text/markdown": "> **user**: o que esse trecho de codigo faz   chat = model.start_chat(history=[])"
          },
          "metadata": {}
        },
        {
          "output_type": "stream",
          "name": "stdout",
          "text": [
            "-------------------------------------------\n"
          ]
        },
        {
          "output_type": "display_data",
          "data": {
            "text/plain": [
              "<IPython.core.display.Markdown object>"
            ],
            "text/markdown": "> **model**: O trecho de código `chat = model.start_chat(history=[])` inicia um novo chat com um modelo de linguagem.\n> \n> * `model` é uma instância de um modelo de linguagem, como o GPT-3 ou o BLOOM.\n> * `history` é uma lista de mensagens anteriores no chat.\n> \n> O método `start_chat` inicializa o estado interno do modelo de linguagem e retorna um objeto de chat que pode ser usado para enviar e receber mensagens.\n> \n> Iniciar um novo chat é útil quando você deseja começar uma nova conversa com o modelo de linguagem ou quando deseja redefinir o estado do chat."
          },
          "metadata": {}
        },
        {
          "output_type": "stream",
          "name": "stdout",
          "text": [
            "-------------------------------------------\n"
          ]
        }
      ]
    }
  ]
}